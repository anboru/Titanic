{
 "cells": [
  {
   "cell_type": "markdown",
   "metadata": {},
   "source": [
    "# Investigate Titanic Data Set"
   ]
  },
  {
   "cell_type": "markdown",
   "metadata": {},
   "source": [
    "## 1. Introduction\n",
    "\n",
    "In this document we will analyze a data set of 891 Titanic passengers (knowing that there were 2224 passengers alltogether on Titanic). This analysis has its limits: we will not use statistical hypthesis testing and will not estimate population parameters based on the sample. Our approach wil be heuristic: we will try to get quickly an educated guess about data in our sample, in order to advance a few ideas about factors that may have influenced the survival rate on Titanic."
   ]
  },
  {
   "cell_type": "markdown",
   "metadata": {},
   "source": [
    "## 2. Questions \n",
    "\n",
    "Many questions may be asked about this sample. In this analysis we will split them into two parts:\n",
    "\n",
    "Part 1: \n",
    "\n",
    "Questions about charateristics of the sample, to be more precise: how passengers of this sample were distributed by different categories such as: gender, class, age and of course: survived vs non survived. It will also be interesting to know how 1st, 2nd and 3rd class passengers were different (we will study age in a more detailed way).\n",
    "\n",
    "Part 2: \n",
    "\n",
    "The most interesting questions are related to factors that influenced survival.  We will investigate such factors as gender, class, age group and also, cabin location (deck and side). We will ask ourselves: which factors may have influenced survival and which of them seem to have influenced it more? \n",
    "\n",
    "Survival (boolean) is the dependent variable in our analysis. As we will work with groups of passengers we will calculate survival rate - the probability to survive."
   ]
  },
  {
   "cell_type": "markdown",
   "metadata": {},
   "source": [
    "## 3. Data wrangling\n",
    "\n",
    "First, we will load data and check if there is a need to clean, modify or complete it."
   ]
  },
  {
   "cell_type": "code",
   "execution_count": 156,
   "metadata": {
    "collapsed": false,
    "scrolled": true
   },
   "outputs": [
    {
     "data": {
      "text/html": [
       "<div>\n",
       "<table border=\"1\" class=\"dataframe\">\n",
       "  <thead>\n",
       "    <tr style=\"text-align: right;\">\n",
       "      <th></th>\n",
       "      <th>PassengerId</th>\n",
       "      <th>Survived</th>\n",
       "      <th>Pclass</th>\n",
       "      <th>Name</th>\n",
       "      <th>Sex</th>\n",
       "      <th>Age</th>\n",
       "      <th>SibSp</th>\n",
       "      <th>Parch</th>\n",
       "      <th>Ticket</th>\n",
       "      <th>Fare</th>\n",
       "      <th>Cabin</th>\n",
       "      <th>Embarked</th>\n",
       "    </tr>\n",
       "  </thead>\n",
       "  <tbody>\n",
       "    <tr>\n",
       "      <th>0</th>\n",
       "      <td>1</td>\n",
       "      <td>0</td>\n",
       "      <td>3</td>\n",
       "      <td>Braund, Mr. Owen Harris</td>\n",
       "      <td>male</td>\n",
       "      <td>22.0</td>\n",
       "      <td>1</td>\n",
       "      <td>0</td>\n",
       "      <td>A/5 21171</td>\n",
       "      <td>7.2500</td>\n",
       "      <td>NaN</td>\n",
       "      <td>S</td>\n",
       "    </tr>\n",
       "    <tr>\n",
       "      <th>1</th>\n",
       "      <td>2</td>\n",
       "      <td>1</td>\n",
       "      <td>1</td>\n",
       "      <td>Cumings, Mrs. John Bradley (Florence Briggs Th...</td>\n",
       "      <td>female</td>\n",
       "      <td>38.0</td>\n",
       "      <td>1</td>\n",
       "      <td>0</td>\n",
       "      <td>PC 17599</td>\n",
       "      <td>71.2833</td>\n",
       "      <td>C85</td>\n",
       "      <td>C</td>\n",
       "    </tr>\n",
       "    <tr>\n",
       "      <th>2</th>\n",
       "      <td>3</td>\n",
       "      <td>1</td>\n",
       "      <td>3</td>\n",
       "      <td>Heikkinen, Miss. Laina</td>\n",
       "      <td>female</td>\n",
       "      <td>26.0</td>\n",
       "      <td>0</td>\n",
       "      <td>0</td>\n",
       "      <td>STON/O2. 3101282</td>\n",
       "      <td>7.9250</td>\n",
       "      <td>NaN</td>\n",
       "      <td>S</td>\n",
       "    </tr>\n",
       "  </tbody>\n",
       "</table>\n",
       "</div>"
      ],
      "text/plain": [
       "   PassengerId  Survived  Pclass  \\\n",
       "0            1         0       3   \n",
       "1            2         1       1   \n",
       "2            3         1       3   \n",
       "\n",
       "                                                Name     Sex   Age  SibSp  \\\n",
       "0                            Braund, Mr. Owen Harris    male  22.0      1   \n",
       "1  Cumings, Mrs. John Bradley (Florence Briggs Th...  female  38.0      1   \n",
       "2                             Heikkinen, Miss. Laina  female  26.0      0   \n",
       "\n",
       "   Parch            Ticket     Fare Cabin Embarked  \n",
       "0      0         A/5 21171   7.2500   NaN        S  \n",
       "1      0          PC 17599  71.2833   C85        C  \n",
       "2      0  STON/O2. 3101282   7.9250   NaN        S  "
      ]
     },
     "execution_count": 156,
     "metadata": {},
     "output_type": "execute_result"
    }
   ],
   "source": [
    "import numpy as np\n",
    "import pandas as pd\n",
    "titanic = pd.read_csv('titanic-data.csv')\n",
    "titanic.head(3)"
   ]
  },
  {
   "cell_type": "markdown",
   "metadata": {},
   "source": [
    "### 3.1 Check count of records and data types\n",
    "\n",
    "We can see that almost all columns have 891 records, only \"Age\", \"Cabin\" and \"Embarked\" columns have less records, respectively: 714, 204 and 889. \n",
    "As for data type, it seems to be correct.\n",
    "\n",
    "We notice that age information is missing for 177 passengers of the data set. \"Cabin\" information is missing for 687 passengers. We will analyze this missing information as we plan to investigate relation between age, cabin location and survival rate."
   ]
  },
  {
   "cell_type": "code",
   "execution_count": 157,
   "metadata": {
    "collapsed": false,
    "scrolled": true
   },
   "outputs": [
    {
     "name": "stdout",
     "output_type": "stream",
     "text": [
      "PassengerId    891\n",
      "Survived       891\n",
      "Pclass         891\n",
      "Name           891\n",
      "Sex            891\n",
      "Age            714\n",
      "SibSp          891\n",
      "Parch          891\n",
      "Ticket         891\n",
      "Fare           891\n",
      "Cabin          204\n",
      "Embarked       889\n",
      "dtype: int64\n",
      "PassengerId      int64\n",
      "Survived         int64\n",
      "Pclass           int64\n",
      "Name            object\n",
      "Sex             object\n",
      "Age            float64\n",
      "SibSp            int64\n",
      "Parch            int64\n",
      "Ticket          object\n",
      "Fare           float64\n",
      "Cabin           object\n",
      "Embarked        object\n",
      "dtype: object\n"
     ]
    }
   ],
   "source": [
    "print titanic.count()\n",
    "print titanic.dtypes"
   ]
  },
  {
   "cell_type": "markdown",
   "metadata": {},
   "source": [
    "### 3.2 Add new column 'Age_group'\n",
    "\n",
    "As we are considering analysis by age group we have to add a column \"Age group\".  \n",
    "\n",
    "For this purpose we will use a function that has some flexibility in terms of how many groups we want to create and how to determine age limits for each group.\n",
    "\n",
    "We will not create a new data set as we don't remove any records, we only complete data."
   ]
  },
  {
   "cell_type": "code",
   "execution_count": 158,
   "metadata": {
    "collapsed": true
   },
   "outputs": [],
   "source": [
    "## The function below takes as argument age. It uses Series with values representing upper limit for each age group:\n",
    "## age less or equal to the upper limit. Indexes are descriptions of each age group.\n",
    "## The function returns age group as a string: concatenation of description and upper age limit.\n",
    "## For example: 'Child under 13'\n",
    "\n",
    "def age_class(age):\n",
    "    age_classes = pd.Series([13, 19, 29, 60, 100], index = ['1)Child under', '2)Teen under', \\\n",
    "                                                          '3)Young adult under', '4)Adult under', '5)Elderly under'])\n",
    "    if not pd.isnull(age):\n",
    "        age_classes_shift = age_classes.shift(periods = 1).add(0, fill_value = 0)\n",
    "        age_group = age_classes[(age_classes >= age) & (age_classes_shift < age)]\n",
    "        return str(age_group.index[0]) + ' ' + str(age_group[0])   "
   ]
  },
  {
   "cell_type": "code",
   "execution_count": 159,
   "metadata": {
    "collapsed": false,
    "scrolled": true
   },
   "outputs": [],
   "source": [
    "## Adding new column 'Age_group' to data\n",
    "\n",
    "titanic['Age_group'] = titanic['Age'].apply(age_class)"
   ]
  },
  {
   "cell_type": "markdown",
   "metadata": {},
   "source": [
    "Below are median ages that we will use later to fill missing age values.\n",
    "\n",
    "First, median age per age group.\n",
    "\n",
    "Then, median age for both 'Child under 13\" and \"Teen under 19\" groups is 15.\n",
    "\n",
    "Last, median age for all young adult and adult passengers is 31.5 "
   ]
  },
  {
   "cell_type": "code",
   "execution_count": 160,
   "metadata": {
    "collapsed": false
   },
   "outputs": [
    {
     "name": "stdout",
     "output_type": "stream",
     "text": [
      "Age_group\n",
      "1)Child under 13           4.0\n",
      "2)Teen under 19           18.0\n",
      "3)Young adult under 29    24.0\n",
      "4)Adult under 60          39.0\n",
      "5)Elderly under 100       64.5\n",
      "Name: Age, dtype: float64\n",
      "Median age for children and teen\n",
      "15.0\n",
      "Median age for young adult and adult passengers\n",
      "31.5\n"
     ]
    }
   ],
   "source": [
    "print titanic.groupby('Age_group').median()['Age']\n",
    "print 'Median age for children and teen'\n",
    "print titanic.loc[(titanic['Age_group'] == '1)Child under 13') | \\\n",
    "                  (titanic['Age_group'] == '2)Teen under 19')].median()['Age']\n",
    "\n",
    "print 'Median age for young adult and adult passengers'\n",
    "print titanic.loc[(titanic['Age_group'] == '3)Young adult under 29') | \\\n",
    "                  (titanic['Age_group'] == '4)Adult under 60')].median()['Age']"
   ]
  },
  {
   "cell_type": "markdown",
   "metadata": {},
   "source": [
    "### 3.3 Analyze and handle missing age data\n",
    "\n",
    "To complete missing values in \"Age\" column we will first add a new column \"Guessed_age\" with two possible values: 1 (for yes) and 0 (for no). This will be a way to track records with filled age values."
   ]
  },
  {
   "cell_type": "code",
   "execution_count": 161,
   "metadata": {
    "collapsed": false
   },
   "outputs": [],
   "source": [
    "titanic['Guessed_age'] = 0"
   ]
  },
  {
   "cell_type": "markdown",
   "metadata": {},
   "source": [
    "To complete missing values we will use other information, such as title (Mrs, Mr., Miss or Master( in \"Name\" column), number of siblings or spouses (\"SibSp\") column and age distribution for passengers with available age information."
   ]
  },
  {
   "cell_type": "markdown",
   "metadata": {},
   "source": [
    "Below is a function that extracts title from passenger's name.\n",
    "We will apply this function to \"Name\" column and add a new column \"Title\" to our data set."
   ]
  },
  {
   "cell_type": "code",
   "execution_count": 162,
   "metadata": {
    "collapsed": true
   },
   "outputs": [],
   "source": [
    "## The function below returns title corresponding to a passenger based on abbreviation found in his or her name.\n",
    "## Title appears after last name separated by comma and is followed by a dot.\n",
    "\n",
    "def title(name):\n",
    "    start = name.index(',') + 2\n",
    "    end = name.index('.') + 1\n",
    "    return name[start : end]\n",
    "\n",
    "## Adding new column 'Title\" to data set\n",
    "\n",
    "titanic['Title'] = titanic['Name'].apply(title)"
   ]
  },
  {
   "cell_type": "markdown",
   "metadata": {},
   "source": [
    "Below are titles used in this dat set."
   ]
  },
  {
   "cell_type": "code",
   "execution_count": 163,
   "metadata": {
    "collapsed": false
   },
   "outputs": [
    {
     "name": "stdout",
     "output_type": "stream",
     "text": [
      "['Mr.' 'Mrs.' 'Miss.' 'Master.' 'Don.' 'Rev.' 'Dr.' 'Mme.' 'Ms.' 'Major.'\n",
      " 'Lady.' 'Sir.' 'Mlle.' 'Col.' 'Capt.' 'the Countess.' 'Jonkheer.']\n"
     ]
    }
   ],
   "source": [
    "print titanic['Title'].unique()"
   ]
  },
  {
   "cell_type": "markdown",
   "metadata": {},
   "source": [
    "Below are titles used for passengers with missing age values. We will have to take into account the title \"Dr.\" along with \"Mr.\""
   ]
  },
  {
   "cell_type": "code",
   "execution_count": 164,
   "metadata": {
    "collapsed": false,
    "scrolled": true
   },
   "outputs": [
    {
     "name": "stdout",
     "output_type": "stream",
     "text": [
      "['Mr.' 'Mrs.' 'Miss.' 'Master.' 'Dr.']\n"
     ]
    }
   ],
   "source": [
    "print titanic.loc[titanic['Age'].isnull()]['Title'].unique()"
   ]
  },
  {
   "cell_type": "markdown",
   "metadata": {},
   "source": [
    "Now we will update age values for 177 passengers with missing age according to these rules:\n",
    "\n",
    "- For passengers with title \"Master\" , knowing that it was used for young boys, we will fill missing age value with median age of group age \"Children under 13\" which is 4 years.\n",
    "\n",
    "- Passengers with title \"Mr.\" or \"Miss.\" and having value superior to 1 in column \"SibSp\" have to be young as there can only be 1 spouse, so a higher number indicates that this passenger has siblings which most probably indicated that the passenger is a child or a teen. For these passengers we will use median age for two age groups \"Child under 13' and \"Teen under 19\" which is 15 years. Certainly, then we will have several siblings having the same age but this is heuristic solution.\n",
    "\n",
    "- For other passengers if title is \"Mr.\" we will use median age for young adult and adult passengers which is 31.5 years .\n",
    "\n",
    "- If title is \"Miss.\" we will use median age for passengers of age_group \"Young adult under 29\" which is 24 years.\n",
    "\n",
    "- If title is \"Mrs.\" we will use median age for passengers of age_group \"Adults under 60\" which is 39 years.\n",
    "\n",
    "Even if we decide later to group ages in a different way changing the function age_class this way to fill values will still make sense.\n"
   ]
  },
  {
   "cell_type": "code",
   "execution_count": 165,
   "metadata": {
    "collapsed": false
   },
   "outputs": [
    {
     "data": {
      "text/plain": [
       "177"
      ]
     },
     "execution_count": 165,
     "metadata": {},
     "output_type": "execute_result"
    }
   ],
   "source": [
    "## The function below updates null age values in a data set\n",
    "## index_upd is nparray containing indexes of passengers' records that will be updated \n",
    "## title is title name used as criteria of our selection\n",
    "## sibsp_min is minimum number of siblings used as criteria for selection\n",
    "## new_age is age that will be used as filling value\n",
    "\n",
    "def update_data(data, title, new_age, sibsp_min):\n",
    "    index_upd = titanic.loc[(titanic['Age'].isnull()) & (titanic['Title'] == title) \\\n",
    "                           & (titanic['SibSp'] >= sibsp_min)]['PassengerId'].index \n",
    "    for i in index_upd:\n",
    "        titanic.iloc[i, 13] = 1\n",
    "        titanic.iloc[i, 5] = new_age\n",
    "        \n",
    "## Updating missing age values\n",
    "## Order in which data are updated is important as first those with siblings are considered, then those with spouses.\n",
    "\n",
    "update_data(titanic, 'Master.', 4, 0)\n",
    "update_data(titanic, 'Mr.', 15, 2)\n",
    "update_data(titanic, 'Miss.', 15, 2)\n",
    "update_data(titanic, 'Miss.', 24, 0  )\n",
    "update_data(titanic, 'Mrs.', 39, 0)\n",
    "update_data(titanic, 'Mr.', 31.5, 0)\n",
    "update_data(titanic, 'Dr.', 31.5, 0)\n",
    "\n",
    "\n",
    "## Verifying that only selected data have been updated\n",
    "titanic.loc[titanic['Guessed_age'] == 1].count()['PassengerId']\n"
   ]
  },
  {
   "cell_type": "markdown",
   "metadata": {},
   "source": [
    "Now, we have to apply age_class function again so that new age values are handled."
   ]
  },
  {
   "cell_type": "code",
   "execution_count": 166,
   "metadata": {
    "collapsed": true
   },
   "outputs": [],
   "source": [
    "titanic['Age_group'] = titanic['Age'].apply(age_class)"
   ]
  },
  {
   "cell_type": "markdown",
   "metadata": {},
   "source": [
    "### 3.4 Missing values in column \"Cabin\".\n",
    "\n",
    "There are only 204 values in column \"Cabin\". We will not fill missing values in this column. The reasons for that are: \n",
    "- more values are missing than available, if we fill missing values we risk to get biased results. \n",
    "- moreover, we don't have additional information that allows us to impute missing values. \n",
    "- cabins were probably assigned mostly to 1st class passenegers, so most of passengers without cabins must have been in 3rd or 2nd class. This way we will analyze cabin location as survival factor for mostly 1st class passengers. \n",
    "\n",
    "That is why we will keep them as None. The analysis we will perform based on cabin location is survival rate per side of the boat and per deck. Our results will only take into account passengers with cabin information. "
   ]
  },
  {
   "cell_type": "markdown",
   "metadata": {},
   "source": [
    "### 3.4 Add new columns: 'Deck' and 'Side'. \n",
    "\n",
    "For each cabin, we will determine deck and side of the boat where it was locatied. The deck is the first letter of the cabin number. The side can be either even (right or starboard) or odd (left or port). Some passengers had several cabins which are separated by a space in the column \"Cabin\". In this case we will take into account olny the first cabin for deck and the last cabin for side, as based on what we can see overlooking the data, these cabins were connected, so they were located on the same deck and the same side. "
   ]
  },
  {
   "cell_type": "code",
   "execution_count": 167,
   "metadata": {
    "collapsed": false
   },
   "outputs": [],
   "source": [
    "## Missing data in column 'Cabin' have type float, while other records having a value have type string.\n",
    "## We need to correct this in order to use these data to determine deck and side corresponding to cabin.\n",
    "## For this reason we will add a new column 'New_cabin' and replace missing values with None.\n",
    "titanic['New_cabin'] = titanic['Cabin']\n",
    "titanic['New_cabin'].loc[titanic['New_cabin'].isnull()] = None\n",
    "\n",
    "## This function returns side of the boat: even or odd based on cabin last digit. \n",
    "## In case there are two cabins numbers in one string only the last digit is taken into account, as passengers \n",
    "## occupying two or more cabins had all of them togehter on the same side.\n",
    "def side(x):\n",
    "    if not x is None and x:\n",
    "        last = x[len(x)-1]\n",
    "        if last.isdigit() and float(last) % 2 == 0:\n",
    "            side = 'even'\n",
    "        elif last.isdigit() and float(last) % 2 != 0:    \n",
    "            side = 'odd'\n",
    "        else:\n",
    "            side = None\n",
    "        return side\n",
    "## This function returns the letter designating deck on the boat.         \n",
    "def deck(x):\n",
    "    if not x is None and x:\n",
    "        return x[0]\n",
    "        \n",
    "## Adding two new columns 'Deck' and 'Side' to original data\n",
    "\n",
    "titanic['Deck'] = titanic['New_cabin'].apply(deck)\n",
    "titanic['Side'] = titanic['New_cabin'].apply(side)\n",
    "\n",
    "\n"
   ]
  },
  {
   "cell_type": "markdown",
   "metadata": {},
   "source": [
    "Now, we will verify if added columns contain as many data as the columns they were based on. We notice that the coumn \"Side\" contains less records than the column \"Deck\". That is because some records in \"Cabin\" column contained only a letter. Otherwise, number of records and data type are correct."
   ]
  },
  {
   "cell_type": "code",
   "execution_count": 168,
   "metadata": {
    "collapsed": false,
    "scrolled": true
   },
   "outputs": [
    {
     "name": "stdout",
     "output_type": "stream",
     "text": [
      "PassengerId    891\n",
      "Survived       891\n",
      "Pclass         891\n",
      "Name           891\n",
      "Sex            891\n",
      "Age            891\n",
      "SibSp          891\n",
      "Parch          891\n",
      "Ticket         891\n",
      "Fare           891\n",
      "Cabin          204\n",
      "Embarked       889\n",
      "Age_group      891\n",
      "Guessed_age    891\n",
      "Title          891\n",
      "New_cabin      204\n",
      "Deck           204\n",
      "Side           200\n",
      "dtype: int64\n",
      "PassengerId      int64\n",
      "Survived         int64\n",
      "Pclass           int64\n",
      "Name            object\n",
      "Sex             object\n",
      "Age            float64\n",
      "SibSp            int64\n",
      "Parch            int64\n",
      "Ticket          object\n",
      "Fare           float64\n",
      "Cabin           object\n",
      "Embarked        object\n",
      "Age_group       object\n",
      "Guessed_age      int64\n",
      "Title           object\n",
      "New_cabin       object\n",
      "Deck            object\n",
      "Side            object\n",
      "dtype: object\n"
     ]
    }
   ],
   "source": [
    "print titanic.count()\n",
    "print titanic.dtypes"
   ]
  },
  {
   "cell_type": "markdown",
   "metadata": {},
   "source": [
    "## 4. Data Analysis: answering our questions"
   ]
  },
  {
   "cell_type": "markdown",
   "metadata": {},
   "source": [
    "## Part I:  Questions about sample composition and characteristics.\n"
   ]
  },
  {
   "cell_type": "code",
   "execution_count": 169,
   "metadata": {
    "collapsed": false,
    "scrolled": true
   },
   "outputs": [
    {
     "name": "stdout",
     "output_type": "stream",
     "text": [
      "Populating the interactive namespace from numpy and matplotlib\n"
     ]
    }
   ],
   "source": [
    "## Importing matplotlib in order to create plots (improved with seaborn) and show them in this notebook.\n",
    "import matplotlib.pyplot as plt\n",
    "% pylab inline\n",
    "import seaborn as sns"
   ]
  },
  {
   "cell_type": "markdown",
   "metadata": {},
   "source": [
    "### Question 1: How many  passengers  of this data set survived? \n",
    "\n",
    "** Answer:**\n",
    "\n",
    "**Rate of survival for all passengers of the data set: 38.4% (342 passengers). 61.5% (549 passengers) in this data set did not survive.**\n",
    "\n",
    "Below we can see a pie plot showing the part of survived passengers in green. "
   ]
  },
  {
   "cell_type": "code",
   "execution_count": 170,
   "metadata": {
    "collapsed": true
   },
   "outputs": [],
   "source": [
    "## This function is used to analyze data set by different categories. \n",
    "## It returns a table with count of records per category and percentage of these records and a plot\n",
    "## depending on the type of plot we pass as argument.\n",
    "## Groupby_column is the category by which we analyze the data set: for example \"Survived\"\n",
    "## Value_column is the column where we will count records.\n",
    "## Graph_kind is type of plot.\n",
    "\n",
    "\n",
    "def describe_data(data, groupby_column, value_column, graph_title, graph_kind):\n",
    "    data_grouped_count = data.groupby(groupby_column).count()[value_column]\n",
    "    data_grouped_pct = data_grouped_count / data_grouped_count.sum() * 100\n",
    "    data_grouped = pd.concat([data_grouped_count, data_grouped_pct], axis = 1)\n",
    "    data_grouped.columns = ['Count', 'Percentage']\n",
    "    data_grouped_plot = data_grouped_count.plot(title = graph_title, kind = graph_kind, figsize = (3,3))\n",
    "    return data_grouped, data_grouped_plot"
   ]
  },
  {
   "cell_type": "code",
   "execution_count": 171,
   "metadata": {
    "collapsed": false
   },
   "outputs": [
    {
     "data": {
      "text/plain": [
       "(          Count  Percentage\n",
       " Survived                   \n",
       " 0           549   61.616162\n",
       " 1           342   38.383838,\n",
       " <matplotlib.axes._subplots.AxesSubplot at 0x11a4ce10>)"
      ]
     },
     "execution_count": 171,
     "metadata": {},
     "output_type": "execute_result"
    },
    {
     "data": {
      "image/png": "[encoded data removed]",
      "text/plain": [
       "<matplotlib.figure.Figure at 0x11df4780>"
      ]
     },
     "metadata": {},
     "output_type": "display_data"
    }
   ],
   "source": [
    "describe_data(titanic, 'Survived', 'PassengerId', 'Total number of passengers survived vs non survived', 'pie')"
   ]
  },
  {
   "cell_type": "markdown",
   "metadata": {},
   "source": [
    "### Question 2: What is the percentage of male passengers vs. female passenger in this data set?\n",
    "\n",
    "** Answer:**\n",
    "\n",
    "** 64.8% (577 male passengers) vs. 35.2% (314 female passengers) in this data set **"
   ]
  },
  {
   "cell_type": "code",
   "execution_count": 172,
   "metadata": {
    "collapsed": false
   },
   "outputs": [
    {
     "data": {
      "text/plain": [
       "(        Count  Percentage\n",
       " Sex                      \n",
       " female    314   35.241302\n",
       " male      577   64.758698,\n",
       " <matplotlib.axes._subplots.AxesSubplot at 0x11db66a0>)"
      ]
     },
     "execution_count": 172,
     "metadata": {},
     "output_type": "execute_result"
    },
    {
     "data": {
      "image/png": "[encoded data removed]",
      "text/plain": [
       "<matplotlib.figure.Figure at 0x12a52da0>"
      ]
     },
     "metadata": {},
     "output_type": "display_data"
    }
   ],
   "source": [
    "describe_data(titanic, 'Sex', 'PassengerId', 'Total number of passengers per gender', 'pie')"
   ]
  },
  {
   "cell_type": "markdown",
   "metadata": {},
   "source": [
    "### Question 3: How are passengers distributed by class in this data set?\n",
    "\n",
    "** Answer:**\n",
    "\n",
    "**1st class** represents    24.2% (216 passengers) in blue on pie plot\n",
    "\n",
    "**2nd class** represents    20.6% (184 passengers)in green on pie plot.\n",
    "\n",
    "**3rd class** represents 55.1% (491 passengers) in red on pie plot.\n",
    "\n",
    "Most of passengers in this data set were traveling in 3rd class.\n",
    "     "
   ]
  },
  {
   "cell_type": "code",
   "execution_count": 173,
   "metadata": {
    "collapsed": false,
    "scrolled": false
   },
   "outputs": [
    {
     "data": {
      "text/plain": [
       "(        Count  Percentage\n",
       " Pclass                   \n",
       " 1         216   24.242424\n",
       " 2         184   20.650954\n",
       " 3         491   55.106622,\n",
       " <matplotlib.axes._subplots.AxesSubplot at 0x127dcb38>)"
      ]
     },
     "execution_count": 173,
     "metadata": {},
     "output_type": "execute_result"
    },
    {
     "data": {
      "image/png": "[encoded data removed]",
      "text/plain": [
       "<matplotlib.figure.Figure at 0x12a61ef0>"
      ]
     },
     "metadata": {},
     "output_type": "display_data"
    }
   ],
   "source": [
    "describe_data(titanic, 'Pclass', 'PassengerId', 'Total number of passengers per class', 'pie')"
   ]
  },
  {
   "cell_type": "markdown",
   "metadata": {},
   "source": [
    "### Question 4: How are passengers distributed by age group?\n",
    "\n",
    "**Answer:**\n",
    "\n",
    "**On the histogram below we can see that the distribution is almost normal, slightly positively skewed, which means that there are more younger passengers.** \n",
    "\n",
    "**50% of passengers are below 30 years. Mean age is 29.6. The oldest passenger was 80 years old and the youngest was an infant less than 1 year old**\n",
    "\n",
    "> Note that 177 missing age values have been filled."
   ]
  },
  {
   "cell_type": "code",
   "execution_count": 174,
   "metadata": {
    "collapsed": false,
    "scrolled": true
   },
   "outputs": [
    {
     "name": "stdout",
     "output_type": "stream",
     "text": [
      "count    891.000000\n",
      "mean      29.610180\n",
      "std       13.343754\n",
      "min        0.420000\n",
      "25%       22.000000\n",
      "50%       30.000000\n",
      "75%       36.000000\n",
      "max       80.000000\n",
      "Name: Age, dtype: float64\n"
     ]
    },
    {
     "data": {
      "image/png": "[encoded data removed]",
      "text/plain": [
       "<matplotlib.figure.Figure at 0x12f93b70>"
      ]
     },
     "metadata": {},
     "output_type": "display_data"
    }
   ],
   "source": [
    "titanic['Age'].plot.hist(legend = True, title = 'Passengers distribution by age group', figsize = (3,3))\n",
    "print titanic['Age'].describe()"
   ]
  },
  {
   "cell_type": "markdown",
   "metadata": {},
   "source": [
    "### Question 5: How passengers of different classes differ in terms of age?\n",
    "\n",
    "**Answer:**\n",
    "\n",
    "Below we can see some statistics and histograms of age per passenger class. \n",
    "\n",
    "** We see that mean age is the highest for passengers of 1st class (37.5 years), then comes 2nd class with 29.9  years and last, 3rd class with 26 years. The median for 1st, 2nd and 3rd class respectively is 36, 30 and 26 years. The standard deviation is 13.9 and 13.5 years for 1st and 2nd class respectively and 11 years for 3rd class. That means that ages in 3rd class are less spread around the mean.**\n",
    "\n",
    "** For the three classes the youngest passenger was under 1 year old and the oldest betweeen 70 and 80 yers old.**\n",
    "\n",
    "** On histograms we can notice normal distribution for 1st class, normal, but narrow for 2nd class with more passengers under 8 years. The distribution for 3rd class is positively skewed.**\n",
    "\n",
    "**In conclusion, we can say that in this data set 3rd class passengers were younger than passengers of 1st and 2nd class and 2nd class passengers were younger than 1st class passengers.**"
   ]
  },
  {
   "cell_type": "code",
   "execution_count": 175,
   "metadata": {
    "collapsed": false
   },
   "outputs": [
    {
     "name": "stdout",
     "output_type": "stream",
     "text": [
      "Pclass       \n",
      "1       count    216.000000\n",
      "        mean      37.541296\n",
      "        std       13.909003\n",
      "        min        0.920000\n",
      "        25%       29.000000\n",
      "        50%       36.000000\n",
      "        75%       47.250000\n",
      "        max       80.000000\n",
      "2       count    184.000000\n",
      "        mean      29.893098\n",
      "        std       13.592413\n",
      "        min        0.670000\n",
      "        25%       23.000000\n",
      "        50%       30.000000\n",
      "        75%       36.000000\n",
      "        max       70.000000\n",
      "3       count    491.000000\n",
      "        mean      26.015112\n",
      "        std       11.349557\n",
      "        min        0.420000\n",
      "        25%       19.000000\n",
      "        50%       26.000000\n",
      "        75%       31.500000\n",
      "        max       74.000000\n",
      "Name: Age, dtype: float64\n"
     ]
    }
   ],
   "source": [
    "titanic_1st = titanic.loc[titanic['Pclass'] == 1]\n",
    "titanic_2nd = titanic.loc[titanic['Pclass'] == 2]\n",
    "titanic_3rd = titanic.loc[titanic['Pclass'] == 3]\n",
    "\n",
    "print titanic.groupby('Pclass').describe()['Age']"
   ]
  },
  {
   "cell_type": "code",
   "execution_count": 176,
   "metadata": {
    "collapsed": false
   },
   "outputs": [
    {
     "data": {
      "text/plain": [
       "<matplotlib.axes._subplots.AxesSubplot at 0x12f206a0>"
      ]
     },
     "execution_count": 176,
     "metadata": {},
     "output_type": "execute_result"
    },
    {
     "data": {
      "image/png": "[encoded data removed]",
      "text/plain": [
       "<matplotlib.figure.Figure at 0x12f4d0b8>"
      ]
     },
     "metadata": {},
     "output_type": "display_data"
    }
   ],
   "source": [
    "titanic_1st['Age'].plot.hist(legend = True, title = 'Age distribution 1st class passengers', figsize = (3, 3))\n"
   ]
  },
  {
   "cell_type": "code",
   "execution_count": 177,
   "metadata": {
    "collapsed": false
   },
   "outputs": [
    {
     "data": {
      "text/plain": [
       "<matplotlib.axes._subplots.AxesSubplot at 0x13160da0>"
      ]
     },
     "execution_count": 177,
     "metadata": {},
     "output_type": "execute_result"
    },
    {
     "data": {
      "image/png": "[encoded data removed]",
      "text/plain": [
       "<matplotlib.figure.Figure at 0x1344a438>"
      ]
     },
     "metadata": {},
     "output_type": "display_data"
    }
   ],
   "source": [
    "titanic_2nd['Age'].plot.hist(legend = True, title = 'Age distribution 2nd class passengers', figsize = (3, 3))\n"
   ]
  },
  {
   "cell_type": "code",
   "execution_count": 178,
   "metadata": {
    "collapsed": false
   },
   "outputs": [
    {
     "data": {
      "text/plain": [
       "<matplotlib.axes._subplots.AxesSubplot at 0x134ec470>"
      ]
     },
     "execution_count": 178,
     "metadata": {},
     "output_type": "execute_result"
    },
    {
     "data": {
      "image/png": "[encoded data removed]",
      "text/plain": [
       "<matplotlib.figure.Figure at 0x136419b0>"
      ]
     },
     "metadata": {},
     "output_type": "display_data"
    }
   ],
   "source": [
    "titanic_3rd['Age'].plot.hist(legend = True, title = 'Age distribution 3rd class passengers', figsize = (3, 3))"
   ]
  },
  {
   "cell_type": "markdown",
   "metadata": {},
   "source": [
    "### Part 2: Questions about factors infuencing the survival\n",
    "\n",
    "Now the most interesting part of this investigation is to try to understand which factors may have influenced the likelihood of survival. \n",
    "Of course, our results will be only tentative, as we don't use statistical hypothesis testing and will base our calculation on a sample, without population's parameters estimate.\n",
    "But this is a heuristic solution that allows us to quickly make an educated guess about interdependancy of different variables. In this case the dependent variable is Survival (boolean), and independent variables that we will consider are: gender, passenger class, age and cabin location.\n",
    "\n",
    "> Based on passengers recounts we know that women and children were given priority to get into boats. In this analysis we decided to consider two factors: gender and age separately as we don't know if gender influenced survival even for younger passengers. Later we will analyze survival rate per age group and gender and will see if there was a difference in survival rate between mae and female passengers for younger age groups.\n",
    "\n",
    "### Question 6: Who was more likely to survive: male or female passengers?\n",
    "\n",
    "** Answer:**\n",
    "\n",
    "**Below we can see the percentage of survived passengers among men and the percentage of survived passengers among women. We can notice that the percentage of survived among women is 74% which seems significantly higher than percentage of survived among both genders (38.4%).** \n",
    "\n",
    "**As for men, their survival rate for this data set is only 18.8% which seems sgnificantly lower than percentage of survived among both genders.**\n",
    "\n",
    "** Based on these observtions we could make a guess that women were more likely to survive than men. This is not based on a proper statistical testing.**"
   ]
  },
  {
   "cell_type": "code",
   "execution_count": 179,
   "metadata": {
    "collapsed": false,
    "scrolled": true
   },
   "outputs": [],
   "source": [
    "## The function below will be used several times to determine survival rate by category\n",
    "## Groupby_column is category of passengers for which we calculate survival rate\n",
    "\n",
    "def pct(data, groupby_column):\n",
    "    pct_series = data.groupby(groupby_column).mean()['Survived']*100\n",
    "    return pct_series "
   ]
  },
  {
   "cell_type": "code",
   "execution_count": 180,
   "metadata": {
    "collapsed": false,
    "scrolled": true
   },
   "outputs": [
    {
     "name": "stdout",
     "output_type": "stream",
     "text": [
      "Sex\n",
      "female    74.203822\n",
      "male      18.890815\n",
      "Name: Survived, dtype: float64\n"
     ]
    }
   ],
   "source": [
    "pct_survivors_per_gender = pct(titanic, 'Sex')\n",
    "print pct_survivors_per_gender"
   ]
  },
  {
   "cell_type": "markdown",
   "metadata": {},
   "source": [
    "### Question 7: Did passenger class influence likelihood of survival?\n",
    "\n",
    "** Below we can see the percentage of survived passengers per class. We can notice that survival rate decreases from 1st class to 3rd class. Survival rate among 1st class passengers is 62.9% which seems significantly higher than survival rate among all the passengers of this data set (general survival rate or 38.4%).** \n",
    "\n",
    "**Survival rate among 2nd class passengers is 47.3% which is higher than general survival rate.**\n",
    "\n",
    "**Survival rate among 3rd class passengers is 24.2% which seems significantly lower than general survival rate.**\n",
    "\n",
    "**Based on these observtions we could make a guess that 1st class passengers were more likely to survive than those from 2nd class and those from 2nd class  - more likely to survive than 3rd class passengers. This is not based on a proper statistical testing.**"
   ]
  },
  {
   "cell_type": "code",
   "execution_count": 181,
   "metadata": {
    "collapsed": false
   },
   "outputs": [
    {
     "name": "stdout",
     "output_type": "stream",
     "text": [
      "Pclass\n",
      "1    62.962963\n",
      "2    47.282609\n",
      "3    24.236253\n",
      "Name: Survived, dtype: float64\n"
     ]
    }
   ],
   "source": [
    "pct_survivors_per_class = pct(titanic, 'Pclass')\n",
    "print pct_survivors_per_class"
   ]
  },
  {
   "cell_type": "markdown",
   "metadata": {},
   "source": [
    "But what if only one of these variables influences the survival rate? For example, only passenger class influences the survival and it just happens so that in this data set among 1st class passengers there were relatively more female passengers than among other classes.\n",
    "\n",
    "We could control the variable class and see if in the same class female passengers are more likely to survive than male passengers.\n",
    "We could also control the variable gender and see if among female only 1st class passengers are more likely to survive."
   ]
  },
  {
   "cell_type": "code",
   "execution_count": 182,
   "metadata": {
    "collapsed": false,
    "scrolled": true
   },
   "outputs": [
    {
     "name": "stdout",
     "output_type": "stream",
     "text": [
      "Survival rate per class and gender\n",
      "Pclass  Sex   \n",
      "1       female    96.808511\n",
      "        male      36.885246\n",
      "2       female    92.105263\n",
      "        male      15.740741\n",
      "3       female    50.000000\n",
      "        male      13.544669\n",
      "Name: Survived, dtype: float64\n"
     ]
    }
   ],
   "source": [
    "pct_survivors_per_class_and_gender = pct(titanic, ['Pclass', 'Sex'])\n",
    "print 'Survival rate per class and gender'\n",
    "print pct_survivors_per_class_and_gender"
   ]
  },
  {
   "cell_type": "markdown",
   "metadata": {},
   "source": [
    "We notice that whithin the same class female survival rate is much higher than male survival rate and is also higher than the survival rate within this class. \n",
    "\n",
    "- 96% for women vs 36% for men whithin 1st class (1st class survival rate is 62.9%), \n",
    "\n",
    "- 92% for women vs 15 for men within 2nd class (second class survival rate is 47.3%)\n",
    "\n",
    "- and finally, 50% for women vs 13.5% for men within 3rd class (3rd class survival rate is 24.2%).\n",
    "\n",
    "It seems very likely that gender influences the survival likelihood."
   ]
  },
  {
   "cell_type": "markdown",
   "metadata": {},
   "source": [
    "Now, let's present the same results in different order sorted first by gender. We will see if among female passengers as well as among male passengers those from 1st class were more likely to survive."
   ]
  },
  {
   "cell_type": "code",
   "execution_count": 183,
   "metadata": {
    "collapsed": false,
    "scrolled": true
   },
   "outputs": [
    {
     "name": "stdout",
     "output_type": "stream",
     "text": [
      "Survival rate per gender and class\n",
      "Sex     Pclass\n",
      "female  1         96.808511\n",
      "        2         92.105263\n",
      "        3         50.000000\n",
      "male    1         36.885246\n",
      "        2         15.740741\n",
      "        3         13.544669\n",
      "Name: Survived, dtype: float64\n"
     ]
    }
   ],
   "source": [
    "pct_survivors_per_gender_and_class = pct(titanic, ['Sex', 'Pclass'])\n",
    "print 'Survival rate per gender and class'\n",
    "print pct_survivors_per_gender_and_class"
   ]
  },
  {
   "cell_type": "markdown",
   "metadata": {},
   "source": [
    "- We notice that among female passengers' survival rate is much higher for 1st (96.8%) and 2nd class (92.1%) than for 3rd class (50%). Both 1st and 2nd class female survival rate is higher than general female survival rate (74%).\n",
    "\n",
    "- Among male passengers 1st class survival rate is higher than 2nd class survival rate which is higher than 3rd class survival rate. Only 1st class survival rate is higher than general male survival rate (18.8%). \n",
    "\n",
    "It seems that passenger class influences the survival likelihood. We can also guess that passenger class influences the likelihood of survival less than gender (based on data for 1st and 2nd class female passengers). "
   ]
  },
  {
   "cell_type": "markdown",
   "metadata": {},
   "source": [
    "### Question 8: Is age one of factors that influenced survival rate? "
   ]
  },
  {
   "cell_type": "markdown",
   "metadata": {},
   "source": [
    "** Answer:**\n",
    "\n",
    "From the table representing survival rate per age group and histogram below it is difficult to conclude if there is a clear relation between these two variables.\n",
    "\n",
    "There is a descending tendancy for survival rate as age increases. This is particularly clear for Children under 13, their survival rate is much higher (58.6%) than other age groups. At the same time, we notice that young adults under 29 have higher survival rate (39.3%) than teen (37%) and adult under 60, which may be related to other factors, for example, number of female passengers among them or number of 1st class passengers."
   ]
  },
  {
   "cell_type": "code",
   "execution_count": 184,
   "metadata": {
    "collapsed": false,
    "scrolled": false
   },
   "outputs": [
    {
     "name": "stdout",
     "output_type": "stream",
     "text": [
      "Survival rate per age group\n",
      "Age_group\n",
      "1)Child under 13          58.666667\n",
      "2)Teen under 19           37.142857\n",
      "3)Young adult under 29    39.357430\n",
      "4)Adult under 60          35.454545\n",
      "5)Elderly under 100       22.727273\n",
      "Name: Survived, dtype: float64\n"
     ]
    }
   ],
   "source": [
    "pct_survivors_per_agegroup = pct(titanic, 'Age_group')\n",
    "print 'Survival rate per age group'\n",
    "print pct_survivors_per_agegroup"
   ]
  },
  {
   "cell_type": "code",
   "execution_count": 185,
   "metadata": {
    "collapsed": false,
    "scrolled": true
   },
   "outputs": [
    {
     "data": {
      "text/plain": [
       "<matplotlib.axes._subplots.AxesSubplot at 0x13875588>"
      ]
     },
     "execution_count": 185,
     "metadata": {},
     "output_type": "execute_result"
    },
    {
     "data": {
      "image/png": "[encoded data removed]",
      "text/plain": [
       "<matplotlib.figure.Figure at 0x124f3630>"
      ]
     },
     "metadata": {},
     "output_type": "display_data"
    }
   ],
   "source": [
    "pct_survivors_per_agegroup.plot(title = 'Survival rate in % per age group', kind = 'bar', figsize = (3, 3))"
   ]
  },
  {
   "cell_type": "markdown",
   "metadata": {},
   "source": [
    "Let's analyze data per age group and passenger class. For all three classes there is a descendent tendancy but not very clear. For 3rd class passengers we notice that elderly survival rate is higher than adults under 60 and young adult survival rate is higher than teen.\n",
    "This is true for 2nd class.\n",
    "As for 1st class passengers, children under 13 have lower survival rate than teen under 19."
   ]
  },
  {
   "cell_type": "code",
   "execution_count": 186,
   "metadata": {
    "collapsed": false
   },
   "outputs": [
    {
     "name": "stdout",
     "output_type": "stream",
     "text": [
      "                        1st cl_surv.rate  2nd cl_surv.rate  3rd cl_surv.rate\n",
      "Age_group                                                                   \n",
      "1)Child under 13               75.000000        100.000000         43.396226\n",
      "2)Teen under 19                82.352941         47.058824         23.943662\n",
      "3)Young adult under 29         71.428571         43.636364         30.817610\n",
      "4)Adult under 60               62.328767         39.560440         14.285714\n",
      "5)Elderly under 100            21.428571         33.333333         20.000000\n"
     ]
    },
    {
     "data": {
      "text/plain": [
       "array([<matplotlib.axes._subplots.AxesSubplot object at 0x00000000136417B8>,\n",
       "       <matplotlib.axes._subplots.AxesSubplot object at 0x0000000013C81A58>,\n",
       "       <matplotlib.axes._subplots.AxesSubplot object at 0x0000000013D49470>], dtype=object)"
      ]
     },
     "execution_count": 186,
     "metadata": {},
     "output_type": "execute_result"
    },
    {
     "data": {
      "image/png": "[encoded data removed]",
      "text/plain": [
       "<matplotlib.figure.Figure at 0x139059b0>"
      ]
     },
     "metadata": {},
     "output_type": "display_data"
    }
   ],
   "source": [
    "## Creating separate series for each passenger class with survival rate per age group.\n",
    "\n",
    "pct_survivors_per_agegroup_1st = pct(titanic_1st, 'Age_group')\n",
    "pct_survivors_per_agegroup_2nd = pct(titanic_2nd, 'Age_group')\n",
    "pct_survivors_per_agegroup_3rd = pct(titanic_3rd, 'Age_group')\n",
    "\n",
    "## Cresting a table with survival rate par age group and passenger class (in columns)\n",
    "\n",
    "pct_survivors_per_agegroup = pd.concat([pct_survivors_per_agegroup_1st, pct_survivors_per_agegroup_2nd, \\\n",
    "                                    pct_survivors_per_agegroup_3rd], axis = 1)\n",
    "pct_survivors_per_agegroup.columns = ['1st cl_surv.rate', '2nd cl_surv.rate', '3rd cl_surv.rate']\n",
    "\n",
    "print pct_survivors_per_agegroup\n",
    "\n",
    "pct_survivors_per_agegroup.plot(kind = 'bar', subplots = True, figsize = (8, 7))\n",
    "\n",
    "\n"
   ]
  },
  {
   "cell_type": "markdown",
   "metadata": {},
   "source": [
    "> We can count number of passengers per age group for 1st class, for example. We see that ther are only 4 children under 13. There is probably not enough observations for this age group to make conclusions. We notice the same for elderly passengers in 3rd class."
   ]
  },
  {
   "cell_type": "code",
   "execution_count": 187,
   "metadata": {
    "collapsed": false,
    "scrolled": false
   },
   "outputs": [
    {
     "name": "stdout",
     "output_type": "stream",
     "text": [
      "Age_group\n",
      "1)Child under 13            4\n",
      "2)Teen under 19            17\n",
      "3)Young adult under 29     35\n",
      "4)Adult under 60          146\n",
      "5)Elderly under 100        14\n",
      "Name: Age, dtype: int64\n"
     ]
    }
   ],
   "source": [
    "print titanic_1st.groupby('Age_group').count()['Age']"
   ]
  },
  {
   "cell_type": "code",
   "execution_count": 188,
   "metadata": {
    "collapsed": false
   },
   "outputs": [
    {
     "name": "stdout",
     "output_type": "stream",
     "text": [
      "Age_group\n",
      "1)Child under 13           53\n",
      "2)Teen under 19            71\n",
      "3)Young adult under 29    159\n",
      "4)Adult under 60          203\n",
      "5)Elderly under 100         5\n",
      "Name: Age, dtype: int64\n"
     ]
    }
   ],
   "source": [
    "print titanic_3rd.groupby('Age_group').count()['Age']"
   ]
  },
  {
   "cell_type": "markdown",
   "metadata": {},
   "source": [
    "As we already observed that gender strongly influences survival rate, we could try to determmine if there is a relation between age group and survival rate among female passengers only and then male passengers only.\n",
    "Here we have a surprise: among women survival rate increases as age increases. "
   ]
  },
  {
   "cell_type": "code",
   "execution_count": 189,
   "metadata": {
    "collapsed": false
   },
   "outputs": [
    {
     "name": "stdout",
     "output_type": "stream",
     "text": [
      "                        female surv.rate  male_surv.rate\n",
      "Age_group                                               \n",
      "1)Child under 13               61.764706       56.097561\n",
      "2)Teen under 19                68.750000       10.526316\n",
      "3)Young adult under 29         72.277228       16.891892\n",
      "4)Adult under 60               80.468750       16.987179\n",
      "5)Elderly under 100           100.000000       10.526316\n"
     ]
    }
   ],
   "source": [
    "titanic_female = titanic.loc[titanic['Sex'] == 'female']\n",
    "titanic_male = titanic.loc[titanic['Sex'] == 'male']\n",
    "\n",
    "pct_survivors_per_agegroup_fem = pct(titanic_female, 'Age_group')\n",
    "pct_survivors_per_agegroup_m = pct(titanic_male, 'Age_group')\n",
    "\n",
    "pct_survivors_per_agegroup_fm = pd.concat([pct_survivors_per_agegroup_fem, pct_survivors_per_agegroup_m], axis = 1)\n",
    "pct_survivors_per_agegroup_fm.columns = ['female surv.rate', 'male_surv.rate']\n",
    "\n",
    "print pct_survivors_per_agegroup_fm"
   ]
  },
  {
   "cell_type": "markdown",
   "metadata": {},
   "source": [
    "Another analysis we could conduct is to calculate age statistics (mean, meadian, standard deviation etc) for survived passengers and for those who did not survive.\n",
    "We observe that mean age values are close for both groups (30.3 for non survived and 28.4 for survived) and median age is 31.5 for non survived and 28 for survived. Standard deviation is close (12.7 for non survived and 14.1 for survived). Even quartiles are very close. "
   ]
  },
  {
   "cell_type": "code",
   "execution_count": 190,
   "metadata": {
    "collapsed": false,
    "scrolled": false
   },
   "outputs": [
    {
     "data": {
      "text/plain": [
       "Survived       \n",
       "0         count    549.000000\n",
       "          mean      30.356102\n",
       "          std       12.773871\n",
       "          min        1.000000\n",
       "          25%       22.000000\n",
       "          50%       31.500000\n",
       "          75%       35.000000\n",
       "          max       74.000000\n",
       "1         count    342.000000\n",
       "          mean      28.412778\n",
       "          std       14.147908\n",
       "          min        0.420000\n",
       "          25%       20.250000\n",
       "          50%       28.000000\n",
       "          75%       36.750000\n",
       "          max       80.000000\n",
       "Name: Age, dtype: float64"
      ]
     },
     "execution_count": 190,
     "metadata": {},
     "output_type": "execute_result"
    }
   ],
   "source": [
    "titanic.groupby('Survived').describe()['Age']"
   ]
  },
  {
   "cell_type": "markdown",
   "metadata": {},
   "source": [
    "** In conclusion, to answer the question about relation between age and survival rate, we have to admit that additional analysis is needed. We need more observatiions for certain age groups. There may be a relation but we cannot conclude it from this data set.**"
   ]
  },
  {
   "cell_type": "markdown",
   "metadata": {},
   "source": [
    "## Question 9: Did cabin location influence survival rate?\n",
    "\n",
    "There were recounts that \"there was some variation in enforcement of the policy between the port and starboard sides of the boat deck. The crew on the port side strictly enforced the rule and would let no male passengers into the boats while the crew on the starboard side allowed male passengers a place when no more women could be found\" [1]\n",
    "It would be interesting to see of there is a variation in survival rate between passengers having their cabins on the port and starboard sides of the boat.\n",
    "To avoid influence of gender factor we represent survival rate per side and per gender. Th table below shows number of male and female passengers per side and their survival rate. There is almost no difference between them."
   ]
  },
  {
   "cell_type": "code",
   "execution_count": 191,
   "metadata": {
    "collapsed": false
   },
   "outputs": [
    {
     "name": "stdout",
     "output_type": "stream",
     "text": [
      "Side  Sex   \n",
      "even  female    44\n",
      "      male      66\n",
      "odd   female    51\n",
      "      male      39\n",
      "Name: Survived, dtype: int64\n",
      "Side  Sex   \n",
      "even  female    0.909091\n",
      "      male      0.424242\n",
      "odd   female    0.960784\n",
      "      male      0.435897\n",
      "Name: Survived, dtype: float64\n"
     ]
    }
   ],
   "source": [
    "print titanic.groupby(['Side', 'Sex']).count()['Survived']\n",
    "print titanic.groupby(['Side', 'Sex']).mean()['Survived']"
   ]
  },
  {
   "cell_type": "markdown",
   "metadata": {},
   "source": [
    "Let's calculate survival rate per deck and per gender. The tables below show number of passengers and the survival rate. Decks are designated by letters, from A to T. \n",
    "\n",
    "** We notice that survival rate is clearly lower for both male and female passengers having their cabin on deck C. We don't consider decks G and T as there are not enough observations and cabins on these lower decks were not 1st class (most of passengers with a cabin number in this data set were 1st class - 176 passengers, vs 16 of 2nd class and 12 of 3rd class).**\n",
    "\n",
    "**For female passengers on other decks survival rate is 1 (or 100%). Female passengers in this data set having their cabins on deck C have survival rate of 0.8 (88%). For male on deck C survival rate is 34% which is lower than on other decks.**\n"
   ]
  },
  {
   "cell_type": "code",
   "execution_count": 192,
   "metadata": {
    "collapsed": false
   },
   "outputs": [
    {
     "name": "stdout",
     "output_type": "stream",
     "text": [
      "Deck  Sex   \n",
      "A     female     1\n",
      "      male      14\n",
      "B     female    27\n",
      "      male      20\n",
      "C     female    27\n",
      "      male      32\n",
      "D     female    18\n",
      "      male      15\n",
      "E     female    15\n",
      "      male      17\n",
      "F     female     5\n",
      "      male       8\n",
      "G     female     4\n",
      "T     male       1\n",
      "Name: Survived, dtype: int64\n",
      "Deck  Sex   \n",
      "A     female    1.000000\n",
      "      male      0.428571\n",
      "B     female    1.000000\n",
      "      male      0.400000\n",
      "C     female    0.888889\n",
      "      male      0.343750\n",
      "D     female    1.000000\n",
      "      male      0.466667\n",
      "E     female    0.933333\n",
      "      male      0.588235\n",
      "F     female    1.000000\n",
      "      male      0.375000\n",
      "G     female    0.500000\n",
      "T     male      0.000000\n",
      "Name: Survived, dtype: float64\n"
     ]
    }
   ],
   "source": [
    "print titanic.groupby(['Deck', 'Sex']).count()['Survived']\n",
    "print titanic.groupby(['Deck', 'Sex']).mean()['Survived']"
   ]
  },
  {
   "cell_type": "code",
   "execution_count": 193,
   "metadata": {
    "collapsed": false
   },
   "outputs": [
    {
     "data": {
      "text/plain": [
       "Pclass\n",
       "1    176\n",
       "2     16\n",
       "3     12\n",
       "Name: PassengerId, dtype: int64"
      ]
     },
     "execution_count": 193,
     "metadata": {},
     "output_type": "execute_result"
    }
   ],
   "source": [
    "## Counting number of passenegers with cabin number in this data set per class.\n",
    "\n",
    "titanic.loc[titanic['Cabin'].notnull()].groupby('Pclass').count()['PassengerId']"
   ]
  },
  {
   "cell_type": "markdown",
   "metadata": {},
   "source": [
    "** There are not enough records with cabin numbers to make conclusions. Nevertheless, based on these 204 records we could suppose that side of the boat did not influence the survival rate. Although the deck C may have had a particularity that could explain lower survival rate of passengers havig their cabins on this deck. We need additional data to make conclusions.**"
   ]
  },
  {
   "cell_type": "markdown",
   "metadata": {},
   "source": [
    "# 5. Conclusion\n",
    "\n",
    "** - Our analysis is based on a sample of 891 observtions. No estimation of population parameters has been done and no hypothesis testing conducted. The results are tentative and have their limits.**\n",
    "\n",
    "** - One important limitation is sample that has not been randomly selected. We do not know why these particular passengers were on this list. So, the sample may be biased, ther may have been criteria of selection of passengers on this list that we do not know. That is why we can not estimate poopulation parameters based on this data set.\n",
    "To estimate ppulation parameters we nee a randomly selected sample.**\n",
    "\n",
    "** - We could suppose that gender is main factor that influenced the survival. We could conclude base on this data set that female passengers were more likely to survive. This is explained by boat commanders policy to let women get into boats first.**\n",
    "\n",
    "** - Passeneger class seems to be the second factor influencing likelihood of survival. Nevertheless, there was only a small difference in survival rate between female passengers of 1st and 2nd classes based on this data set**\n",
    "\n",
    "** - Age group may have been a factor of survival but only to a certin degree. Children under 13 had a higher survival rate throughout the three classes of this sample. There is a decreasing tendancy of survival rate with age increase but it is not verified for female passengers where the tendancy is reversed (higher survival rate as age increases). We may not have enough data to make conclusions on age factor.**\n",
    "\n",
    "** - It seems that there is no relation between the side of the ship where cabins were located and survival rate. On the other hand, there may be a relation between the deck where cabins were located and survival rate. It is possible that there was a particularity for deck C that could explain lower survival rate for passenegers with cabins on this deck.**"
   ]
  },
  {
   "cell_type": "markdown",
   "metadata": {},
   "source": [
    "References\n",
    "\n",
    "1. Hall, Wayne. (1986). Social class and survival on SS Titanic. Retrieved from http://dx.doi.org/10.1016/0277-9536(86)90041-9\n",
    "\n",
    "2. Titanic deckplans https://www.encyclopedia-titanica.org/titanic-deckplans/e-deck.html\n",
    "\n",
    "3. Titanic survival data. Retrieved from http://www.statisticalconsultants.co.nz\n",
    "\n",
    "\n",
    "\n",
    "\n",
    "          \n"
   ]
  }
 ],
 "metadata": {
  "anaconda-cloud": {},
  "celltoolbar": "Raw Cell Format",
  "kernelspec": {
   "display_name": "Python [default]",
   "language": "python",
   "name": "python2"
  },
  "language_info": {
   "codemirror_mode": {
    "name": "ipython",
    "version": 2
   },
   "file_extension": ".py",
   "mimetype": "text/x-python",
   "name": "python",
   "nbconvert_exporter": "python",
   "pygments_lexer": "ipython2",
   "version": "2.7.12"
  }
 },
 "nbformat": 4,
 "nbformat_minor": 1
}
